{
 "cells": [
  {
   "cell_type": "markdown",
   "id": "ff5edf9e-1b2c-4e4f-bbac-70c0d7554e29",
   "metadata": {},
   "source": [
    "## This notebook provide the instructions on how to read the DYAMOND GEOS data from the SealStorage using OpenVisus framework.\n",
    "\n",
    "### To run this notebook properly, you need to install the library `OpenVisus`. To install this, please run the following command from your terminal:\n",
    "`pip install OpenVisus`"
   ]
  },
  {
   "cell_type": "markdown",
   "id": "3ba0b27c-cda7-4c59-935d-50b7766303a4",
   "metadata": {},
   "source": [
    "# **Step 1: Importing the libraries**"
   ]
  },
  {
   "cell_type": "code",
   "execution_count": null,
   "id": "c9e182d7",
   "metadata": {
    "tags": []
   },
   "outputs": [],
   "source": [
    "import numpy as np\n",
    "import OpenVisus as ov\n",
    "import matplotlib.pyplot as plt"
   ]
  },
  {
   "cell_type": "markdown",
   "id": "b5047424-1db9-49eb-a882-77637e0adaaf",
   "metadata": {},
   "source": [
    "### The section below shows different GEOS fields we have available in cloud. Remember that GEOS fields are projected in a cubed-sphere grid; so they have 6 faces \n",
    "\n",
    "### set the variable and face"
   ]
  },
  {
   "cell_type": "markdown",
   "id": "f9d26b18",
   "metadata": {},
   "source": [
    "## Accessing Variables on Each Face of the Cubed-Sphere Grid\n",
    "\n",
    "The cubed-sphere grid consists of six faces as shown in the images below. Each face corresponds to a different region of the grid, allowing for individual access and processing of data.\n",
    "\n",
    "<div style=\"display: flex; justify-content: center;\">\n",
    "    <img src=\"./images/cubed-sphere-grid.jpg\" alt=\"Cubed-Sphere Grid\" width=\"600\" height=\"300\"/>\n",
    "    <img src=\"./images/faces6.png\" alt=\"6 Faces\" width=\"600\"/>\n",
    "</div>\n"
   ]
  },
  {
   "cell_type": "markdown",
   "id": "01f96596",
   "metadata": {},
   "source": [
    "Each face will look like this.\n",
    "\n",
    "\n",
    "<div style=\"display: flex; justify-content: center;\">\n",
    "    <img src=\"./images/faces6.png\" alt=\"6 Faces\" width=\"600\"/>\n",
    "    <img src=\"./images/attached_geos_faces.png\" alt=\"6 Faces\" width=\"600\"/>\n",
    "</div>\n"
   ]
  },
  {
   "cell_type": "code",
   "execution_count": null,
   "id": "af808135-53cb-4d37-aeae-77293b3a1a30",
   "metadata": {},
   "outputs": [],
   "source": [
    "variable = 'u'\n",
    "face=2\n",
    "timestep=1"
   ]
  },
  {
   "cell_type": "code",
   "execution_count": null,
   "id": "03d6c4ce-9d79-4342-b236-9d224a82039b",
   "metadata": {},
   "outputs": [],
   "source": [
    "geos_face_loc=f\"https://maritime.sealstorage.io/api/v0/s3/utah/nasa/dyamond/GEOS/GEOS_{variable.upper()}/{variable.lower()}_face_{face}_depth_52_time_0_10269.idx?access_key=any&secret_key=any&endpoint_url=https://maritime.sealstorage.io/api/v0/s3\"\n"
   ]
  },
  {
   "cell_type": "markdown",
   "id": "79a02fb9-abd7-4168-9f2d-6700c10d8eba",
   "metadata": {
    "tags": []
   },
   "source": [
    "## **Step 2: Reading the metadata file from cloud**\n",
    "In this section, you can select any variables that you can declared in the cells above and replace it inside `LoadDataset`. We are just reading the metadata for the dataset here."
   ]
  },
  {
   "cell_type": "code",
   "execution_count": null,
   "id": "472f1b60-217f-4f50-96c5-2e079d53559a",
   "metadata": {
    "tags": []
   },
   "outputs": [],
   "source": [
    "db=ov.LoadDataset(geos_face_loc)\n",
    "print(f'Dimensions: {db.getLogicBox()[1][0]}*{db.getLogicBox()[1][1]}*{db.getLogicBox()[1][2]}')\n",
    "print(f'Total Timesteps: {len(db.getTimesteps())}')\n",
    "print(f'Field: {db.getField().name}')\n",
    "print('Data Type: float32')"
   ]
  },
  {
   "cell_type": "markdown",
   "id": "ebe3db04-4720-4e1c-856e-e962d4dda777",
   "metadata": {
    "tags": []
   },
   "source": [
    "## **Step 3:  Data Selection**\n",
    "This section shows you how to load the data you want. You can select any timestep, region (x,y,z) you want. You can set the quality or resolution of the data as well. Higher quality means the finer(more) data. Not setting any time means first timestep available. Not setting quality means full data which takes a while to load because of the higher filesize. "
   ]
  },
  {
   "cell_type": "code",
   "execution_count": null,
   "id": "38ac03df",
   "metadata": {
    "tags": []
   },
   "outputs": [],
   "source": [
    "data=db.read(time=0,quality=-4,z=[50,51]) \n",
    "data.shape"
   ]
  },
  {
   "cell_type": "markdown",
   "id": "db8a4846-f9ad-44a7-a39d-c1e2d28717b9",
   "metadata": {},
   "source": [
    "## **Step 4:  Visualize the data**\n",
    "We are using a simple matplotlib here, but since the data is in numpy array, it can loaded with any python modules that support numpy. Feel free to set the `vmin`,`vmax` appropriately."
   ]
  },
  {
   "cell_type": "code",
   "execution_count": null,
   "id": "c58133a1",
   "metadata": {
    "tags": []
   },
   "outputs": [],
   "source": [
    "fig,axes=plt.subplots(1,1,figsize=(10,8))\n",
    "\n",
    "im=axes.imshow(data[0,:,:], aspect='auto',origin='lower',cmap='viridis')\n",
    "cbar = plt.colorbar(im, ax=axes)\n",
    "cbar.set_label('East-west wind speed (m/s)')\n",
    "plt.show()"
   ]
  },
  {
   "cell_type": "markdown",
   "id": "8dcdc2d4-b3e1-47bd-bb93-00493bbc1df0",
   "metadata": {},
   "source": [
    "# **Step 7: Horizontal Slicing**"
   ]
  },
  {
   "cell_type": "code",
   "execution_count": null,
   "id": "22ec0b75-9f91-4732-b963-6f3f6a2059e8",
   "metadata": {},
   "outputs": [],
   "source": [
    "data1=db.read(time=1,y=[1000,1001])\n",
    "data1.shape\n"
   ]
  },
  {
   "cell_type": "code",
   "execution_count": null,
   "id": "09ad6b6f-eb98-45ab-9da6-a4fb14639eee",
   "metadata": {},
   "outputs": [],
   "source": [
    "plt.figure(figsize=(10,8))\n",
    "plt.imshow(data1[:,0,:],cmap='turbo', aspect='auto')\n",
    "plt.colorbar()"
   ]
  },
  {
   "cell_type": "markdown",
   "id": "d4c13ced-3fc0-406f-8ee4-d8455737e278",
   "metadata": {},
   "source": [
    "### *Please reach out to Aashish Panta, Giorgio Scorzelli or Valerio Pascucci for any concerns about the notebook. Thank you!*\n",
    "- Aashish Panta (aashishpanta0@gmail.com)\n",
    "- Giorgio Scorzelli (scrgiorgio@gmail.com)\n",
    "- Valerio Pascucci (pascucci.valerio@gmail.com)"
   ]
  },
  {
   "cell_type": "code",
   "execution_count": null,
   "id": "77058eb8-0847-4825-8f44-6e78a8eb4270",
   "metadata": {},
   "outputs": [],
   "source": []
  }
 ],
 "metadata": {
  "kernelspec": {
   "display_name": "Python 3 (ipykernel)",
   "language": "python",
   "name": "python3"
  },
  "language_info": {
   "codemirror_mode": {
    "name": "ipython",
    "version": 3
   },
   "file_extension": ".py",
   "mimetype": "text/x-python",
   "name": "python",
   "nbconvert_exporter": "python",
   "pygments_lexer": "ipython3",
   "version": "3.10.15"
  }
 },
 "nbformat": 4,
 "nbformat_minor": 5
}
